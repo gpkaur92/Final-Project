{
 "cells": [
  {
   "cell_type": "markdown",
   "metadata": {},
   "source": [
    "## COMPRESSED SENSING FOR MAGNETIC RESONANCE IMAGING ##"
   ]
  },
  {
   "cell_type": "markdown",
   "metadata": {},
   "source": [
    "**INTRODUCTION**\n",
    "\n",
    "Imaging speed is important in many MRI applications.However, the speed at which data can be collected in MRI is fundamentally limited by physical (gradient amplitude and slew-rate) and physiological (nerve stimulation) constraints. Therefore, many researches are seeking for methods to reduce the amount of acquired data without degrading the image quality.When k-space is undersampled, the Nyquist criterion is violated, and Fourier reconstructions exhibit aliasing artifacts.\n",
    "\n",
    "Even though MRI is fascinating imaging technology.But still few challenges are always there that are of acquisition speed specially for the patients who are anxious,can't stay still and who have limited breath hold capacity.\n",
    "\n",
    "Many previous proposals for reduced data imaging try to mitigate undersampling artifacts. They fall in three groups: \n",
    "\n",
    "(a) Methods generating artifacts that are incoherent or less visually apparent, at the expense of reduced apparent SNR.\n",
    "\n",
    "(b) Methods exploiting redundancy in k-space, such as partial-Fourier, parallel imaging, etc.\n",
    "\n",
    "(c) Methods exploiting either spatial or temporal redundancy or both.[1]\n",
    "\n",
    "In this project we aim to explain this article we aim to exploit the sparsity which is implicit in MR images, and develop an approach combining elements of approaches a and c. By implicit sparsity we mean transform sparsity, i.e., the underlying object we aim to recover happens to have a sparse representation in a known and fixed mathematical transform domain.\n",
    "\n",
    "**Compressed Sensing Ways In General**\n",
    "\n",
    "There are many different types of norms. Perhaps the most common and widely recognized one is the norm:\n",
    "\n",
    "x2=submission of all (x1)^2\n",
    "\n",
    "\n",
    "The norm is nice because it is easily calculated, easily differentiated, and it has intuitive appeal (e.g., the norm of a vector is its length). A lot of very important algorithms and methods rely on the, including least squares fitting.That said, the norm isn’t the goto solution for everything. The other norms also have many interesting and useful properties.\n",
    "\n",
    "Consider the norm:\n",
    "\n",
    "x1=submission of all |x|\n",
    "\n",
    "Instead of squaring each element, it simply takes its absolute value. Although the absolute value is annoying in the sense that it often introduces discontinuities in its derivatives, it does have some unique properties when compared to the squaring that takes place in the norm.[3] \n",
    "\n",
    "Compressed sensing is all about exploiting these properties."
   ]
  },
  {
   "cell_type": "markdown",
   "metadata": {},
   "source": [
    "**Compressed Sensing in MRI**\n",
    "\n",
    "It is basically based on three golden rules, those are:\n",
    "\n",
    "1> Incoherent Subsampling- Subsampling is typically accompained by a dictation of image quality.For example, the image would be either low resolution image or image with in folding artefacts. At this part incoherence comes into game. Incoherent means that the data are sampled randomly.So, both combine together to give two things:\n",
    "\n",
    "> Subsampling increases speed.The fewer the raw data is to be sampled the faster the acquisition.\n",
    "\n",
    "> With incoherence we avoid the distinct aliasing artefacts.\n",
    "\n",
    "Infact the incoherence subsampling leads to noise like artefacts imposed over the image. \n",
    "\n",
    "Now,how to remove this noise from the image.Our rule no 2 is transform sparsity.\n",
    "\n",
    "2> Transform Sparsity-An image is considered sparse when its information content is reflected in a few data points possible. Now, we could seperate the noise from image by creating a particular difference between them both by wavelet transform. So, now we can take a threshold and seperate the both signals by saying that signals below the threshold are irrelevant.\n",
    "\n",
    "By doing this much of the noise will disappear and the image will be highly clear.\n",
    "\n",
    "Its not that much easy to remove noise from MRI image so still there will be noise which we can remove by the next rule called non-linear iterative reconstruction.\n",
    "\n",
    "3> Non-linear iterative reconstruction- Our main goal is to obtain the optimum balance in data consistency and sparsity that mean we want to remove as much noise as possible but not to remove useful image information.This could be possible after a defined number of iterations.\n",
    "\n",
    "This way we will have speed and quality in harmony.[5]\n",
    "\n",
    "Hence, These 3 golden rules give us required noise free and good quality image with high acquisition speed in less time.\n"
   ]
  },
  {
   "cell_type": "markdown",
   "metadata": {},
   "source": [
    "Since the idea of compressed sensing can be applied in wide array of subjects, I’ll be focusing mainly on how to apply it in one and two dimensions to things like sounds and images. Speci×cally, I will show how to take a highly incomplete data set of signal samples and reconstruct the underlying sound or image. It is a very powerful technique.\n",
    "\n",
    "To use this technique in python make sure following packages are installed:"
   ]
  },
  {
   "cell_type": "markdown",
   "metadata": {},
   "source": [
    "So first we are going to create arbitrary linear data with some noise."
   ]
  },
  {
   "cell_type": "code",
   "execution_count": 2,
   "metadata": {},
   "outputs": [
    {
     "name": "stdout",
     "output_type": "stream",
     "text": [
      "Optimization terminated successfully.\n",
      "         Current function value: 0.791201\n",
      "         Iterations: 50\n",
      "         Function evaluations: 97\n",
      "Optimization terminated successfully.\n",
      "         Current function value: 0.093203\n",
      "         Iterations: 61\n",
      "         Function evaluations: 119\n",
      "Optimization terminated successfully.\n",
      "         Current function value: 7.791212\n",
      "         Iterations: 54\n",
      "         Function evaluations: 101\n",
      "Optimization terminated successfully.\n",
      "         Current function value: 22.018689\n",
      "         Iterations: 53\n",
      "         Function evaluations: 104\n"
     ]
    }
   ],
   "source": [
    "# make sure you've got the following packages installed\n",
    "import numpy as np\n",
    "import matplotlib as mpl\n",
    "import matplotlib.pyplot as plt\n",
    "import scipy.optimize as spopt\n",
    "import scipy.fftpack as spfft\n",
    "import scipy.ndimage as spimg\n",
    "import cvxpy as cvx\n",
    "# so first we are going to create arbitrary linear data with some noise\n",
    "x = np.sort(np.random.uniform(0, 10, 15))\n",
    "y = 3 + 0.2 * x + 0.1 * np.random.randn(len(x))\n",
    "\n",
    "# find L1 line fit\n",
    "l1_fit = lambda x0, x, y: np.sum(np.abs(x0[0] * x + x0[1] - y))\n",
    "xopt1 = spopt.fmin(func=l1_fit, x0=[1, 1], args=(x, y))\n",
    "# find L2 line fit\n",
    "l2_fit = lambda x0, x, y: np.sum(np.power(x0[0] * x + x0[1] - y, 2))\n",
    "xopt2 = spopt.fmin(func=l2_fit, x0=[1, 1], args=(x, y))\n",
    "\n",
    "# adjust data by adding outlyers\n",
    "y2 = y.copy()\n",
    "y2[3] += 4\n",
    "y2[13] -= 3\n",
    "# refit the lines\n",
    "xopt12 = spopt.fmin(func=l1_fit, x0=[1, 1], args=(x, y2))\n",
    "xopt22 = spopt.fmin(func=l2_fit, x0=[1, 1], args=(x, y2))"
   ]
  },
  {
   "cell_type": "markdown",
   "metadata": {},
   "source": [
    "So, the optimization of the function created is successful and we could make out function value after the iterations."
   ]
  },
  {
   "cell_type": "markdown",
   "metadata": {},
   "source": [
    "**Reconstruction of Single Signal**"
   ]
  },
  {
   "cell_type": "code",
   "execution_count": 3,
   "metadata": {},
   "outputs": [
    {
     "name": "stdout",
     "output_type": "stream",
     "text": [
      "\n",
      "ECOS 2.0.4 - (C) embotech GmbH, Zurich Switzerland, 2012-15. Web: www.embotech.com/ECOS\n",
      "\n",
      "It     pcost       dcost      gap   pres   dres    k/t    mu     step   sigma     IR    |   BT\n",
      " 0  +0.000e+00  -0.000e+00  +5e+03  1e+00  1e-02  1e+00  5e-01    ---    ---    0  1  - |  -  - \n",
      " 1  -3.421e-04  -0.000e+00  +6e+01  5e-01  1e-04  1e-02  6e-03  0.9890  1e-04   0  0  0 |  0  0\n",
      " 2  -3.222e-06  -0.000e+00  +6e-01  1e-02  1e-06  1e-04  6e-05  0.9890  1e-04   0  0  0 |  0  0\n",
      " 3  -2.945e-08  -0.000e+00  +7e-03  1e-04  2e-08  1e-06  7e-07  0.9890  1e-04   0  0  0 |  0  0\n",
      " 4  -2.576e-10  -0.000e+00  +8e-05  1e-06  2e-10  2e-08  8e-09  0.9890  1e-04   0  0  0 |  0  0\n",
      " 5  -2.098e-12  -0.000e+00  +9e-07  2e-08  2e-12  2e-10  9e-11  0.9890  1e-04   0  0  0 |  0  0\n",
      " 6  -1.493e-14  -0.000e+00  +9e-09  2e-10  2e-14  2e-12  9e-13  0.9890  1e-04   0  0  0 |  0  0\n",
      "\n",
      "OPTIMAL (within feastol=1.8e-10, reltol=6.4e+05, abstol=9.5e-09).\n",
      "Runtime: 31.533928 seconds.\n",
      "\n"
     ]
    }
   ],
   "source": [
    "# make sure you've got the following packages installed\n",
    "import numpy as np\n",
    "import matplotlib as mpl\n",
    "import matplotlib.pyplot as plt\n",
    "import scipy.optimize as spopt\n",
    "import scipy.fftpack as spfft\n",
    "import scipy.ndimage as spimg\n",
    "import cvxpy as cvx\n",
    "\n",
    "# sum of two sinusoids\n",
    "n = 5000\n",
    "t = np.linspace(0, 1/8, n)\n",
    "y = np.sin(1394 * np.pi * t) + np.sin(3266 * np.pi * t)\n",
    "yt = spfft.dct(y, norm='ortho')\n",
    "\n",
    "# extract small sample of signal\n",
    "m = 500 # 10% sample\n",
    "ri = np.random.choice(n, m, replace=False) # random sample of indices\n",
    "ri.sort() # sorting not strictly necessary, but convenient for plotting\n",
    "t2 = t[ri]\n",
    "y2 = y[ri]\n",
    "\n",
    "# create idct matrix operator\n",
    "A = spfft.idct(np.identity(n), norm='ortho', axis=0)\n",
    "A = A[ri]\n",
    "# do L1 optimization\n",
    "vx = cvx.Variable(n)\n",
    "objective = cvx.Minimize(cvx.norm(vx, 1))\n",
    "constraints = [A*vx == y2]\n",
    "prob = cvx.Problem(objective, constraints)\n",
    "result = prob.solve(verbose=True)\n",
    "\n",
    "# reconstruct signal\n",
    "x = np.array(vx.value)\n",
    "x = np.squeeze(x)\n",
    "sig = spfft.idct(x, norm='ortho', axis=0)"
   ]
  },
  {
   "cell_type": "markdown",
   "metadata": {},
   "source": [
    "Here we have calculated the run time to acquire an image with good quality and with required iterations."
   ]
  },
  {
   "cell_type": "markdown",
   "metadata": {},
   "source": [
    "**Reconstruction of an Image(2D)**\n"
   ]
  },
  {
   "cell_type": "code",
   "execution_count": 5,
   "metadata": {},
   "outputs": [
    {
     "name": "stderr",
     "output_type": "stream",
     "text": [
      "C:\\ProgramData\\Anaconda2\\lib\\site-packages\\scipy\\ndimage\\interpolation.py:600: UserWarning: From scipy 0.13.0, the output shape of zoom() is calculated with round() instead of int() - for these inputs the size of the returned array has changed.\n",
      "  \"the returned array has changed.\", UserWarning)\n"
     ]
    },
    {
     "ename": "TypeError",
     "evalue": "'float' object cannot be interpreted as an index",
     "output_type": "error",
     "traceback": [
      "\u001b[1;31m---------------------------------------------------------------------------\u001b[0m",
      "\u001b[1;31mTypeError\u001b[0m                                 Traceback (most recent call last)",
      "\u001b[1;32m<ipython-input-5-238293b670c3>\u001b[0m in \u001b[0;36m<module>\u001b[1;34m()\u001b[0m\n\u001b[0;32m     18\u001b[0m \u001b[1;31m# extract small sample of signal\u001b[0m\u001b[1;33m\u001b[0m\u001b[1;33m\u001b[0m\u001b[0m\n\u001b[0;32m     19\u001b[0m \u001b[0mk\u001b[0m \u001b[1;33m=\u001b[0m \u001b[0mround\u001b[0m\u001b[1;33m(\u001b[0m\u001b[0mnx\u001b[0m \u001b[1;33m*\u001b[0m \u001b[0mny\u001b[0m \u001b[1;33m*\u001b[0m \u001b[1;36m0.5\u001b[0m\u001b[1;33m)\u001b[0m \u001b[1;31m# 50% sample\u001b[0m\u001b[1;33m\u001b[0m\u001b[0m\n\u001b[1;32m---> 20\u001b[1;33m \u001b[0mri\u001b[0m \u001b[1;33m=\u001b[0m \u001b[0mnp\u001b[0m\u001b[1;33m.\u001b[0m\u001b[0mrandom\u001b[0m\u001b[1;33m.\u001b[0m\u001b[0mchoice\u001b[0m\u001b[1;33m(\u001b[0m\u001b[0mnx\u001b[0m \u001b[1;33m*\u001b[0m \u001b[0mny\u001b[0m\u001b[1;33m,\u001b[0m \u001b[0mk\u001b[0m\u001b[1;33m,\u001b[0m \u001b[0mreplace\u001b[0m\u001b[1;33m=\u001b[0m\u001b[0mFalse\u001b[0m\u001b[1;33m)\u001b[0m \u001b[1;31m# random sample of indices\u001b[0m\u001b[1;33m\u001b[0m\u001b[0m\n\u001b[0m\u001b[0;32m     21\u001b[0m \u001b[0mb\u001b[0m \u001b[1;33m=\u001b[0m \u001b[0mX\u001b[0m\u001b[1;33m.\u001b[0m\u001b[0mT\u001b[0m\u001b[1;33m.\u001b[0m\u001b[0mflat\u001b[0m\u001b[1;33m[\u001b[0m\u001b[0mri\u001b[0m\u001b[1;33m]\u001b[0m\u001b[1;33m\u001b[0m\u001b[0m\n\u001b[0;32m     22\u001b[0m \u001b[0mb\u001b[0m \u001b[1;33m=\u001b[0m \u001b[0mnp\u001b[0m\u001b[1;33m.\u001b[0m\u001b[0mexpand_dims\u001b[0m\u001b[1;33m(\u001b[0m\u001b[0mb\u001b[0m\u001b[1;33m,\u001b[0m \u001b[0maxis\u001b[0m\u001b[1;33m=\u001b[0m\u001b[1;36m1\u001b[0m\u001b[1;33m)\u001b[0m\u001b[1;33m\u001b[0m\u001b[0m\n",
      "\u001b[1;32mmtrand.pyx\u001b[0m in \u001b[0;36mmtrand.RandomState.choice (numpy\\random\\mtrand\\mtrand.c:18822)\u001b[1;34m()\u001b[0m\n",
      "\u001b[1;31mTypeError\u001b[0m: 'float' object cannot be interpreted as an index"
     ]
    }
   ],
   "source": [
    "import numpy as np\n",
    "import matplotlib as mpl\n",
    "import matplotlib.pyplot as plt\n",
    "import scipy.optimize as spopt\n",
    "import scipy.fftpack as spfft\n",
    "import scipy.ndimage as spimg\n",
    "import cvxpy as cvx\n",
    "\n",
    "def dct2(x):\n",
    " return spfft.dct(spfft.dct(x.T, norm='ortho', axis=0).T, norm='ortho', axis=0)\n",
    "def idct2(x):\n",
    " return spfft.idct(spfft.idct(x.T, norm='ortho', axis=0).T, norm='ortho', axis=0)\n",
    "\n",
    "# read original image and downsize for speed\n",
    "Xorig = spimg.imread('download.jpg', flatten=True, mode='L') # read in graysca\n",
    "X = spimg.zoom(Xorig, 0.04)\n",
    "ny,nx = X.shape\n",
    "\n",
    "# extract small sample of signal\n",
    "k = round(nx * ny * 0.5) # 50% sample\n",
    "ri = np.random.choice(nx * ny, k, replace=False) # random sample of indices\n",
    "b = X.T.flat[ri]\n",
    "b = np.expand_dims(b, axis=1)\n",
    "# create dct matrix operator using kron (memory errors for large ny*nx)\n",
    "A = np.kron(\n",
    " spfft.idct(np.identity(nx), norm='ortho', axis=0),\n",
    " spfft.idct(np.identity(ny), norm='ortho', axis=0)\n",
    " )\n",
    "A = A[ri,:] # same as phi times kron\n",
    "# do L1 optimization\n",
    "vx = cvx.Variable(nx * ny)\n",
    "objective = cvx.Minimize(cvx.norm(vx, 1))\n",
    "constraints = [A*vx == b]\n",
    "prob = cvx.Problem(objective, constraints)\n",
    "result = prob.solve(verbose=True)\n",
    "Xat2 = np.array(vx.value).squeeze()\n",
    "\n",
    "# reconstruct signal\n",
    "Xat = Xat2.reshape(nx, ny).T # stack columns\n",
    "Xa = idct2(Xat)\n",
    "# confirm solution\n",
    "if not np.allclose(X.T.flat[ri], Xa.T.flat[ri]):\n",
    " print('Warning: values at sample indices don\\'t match original.')\n",
    "# create images of mask (for visualization)\n",
    "mask = np.zeros(X.shape)\n",
    "mask.T.flat[ri] = 255\n",
    "Xm = 255 * np.ones(X.shape)\n",
    "Xm.T.flat[ri] = X.T.flat[ri]\n"
   ]
  },
  {
   "cell_type": "markdown",
   "metadata": {},
   "source": [
    "Here we are unable to create an image few errors. With further modifications and more knowledge we could probably solve it."
   ]
  },
  {
   "cell_type": "markdown",
   "metadata": {},
   "source": [
    "** An Example to Show Image Reconstruction**"
   ]
  },
  {
   "cell_type": "code",
   "execution_count": 6,
   "metadata": {},
   "outputs": [
    {
     "name": "stderr",
     "output_type": "stream",
     "text": [
      "C:\\ProgramData\\Anaconda2\\lib\\site-packages\\ipykernel_launcher.py:44: DeprecationWarning: object of type <type 'float'> cannot be safely interpreted as an integer.\n"
     ]
    },
    {
     "data": {
      "image/png": "[encoded data removed]",
      "text/plain": [
       "<matplotlib.figure.Figure at 0xb9b6240>"
      ]
     },
     "metadata": {},
     "output_type": "display_data"
    }
   ],
   "source": [
    "# Author: Emmanuelle Gouillart <emmanuelle.gouillart@nsup.org>\n",
    "# License: BSD 3 clause\n",
    "\n",
    "import numpy as np\n",
    "from scipy import sparse\n",
    "from scipy import ndimage\n",
    "from sklearn.linear_model import Lasso\n",
    "from sklearn.linear_model import Ridge\n",
    "import matplotlib.pyplot as plt\n",
    "\n",
    "\n",
    "def _weights(x, dx=1, orig=0):\n",
    "    x = np.ravel(x)\n",
    "    floor_x = np.floor((x - orig) / dx)\n",
    "    alpha = (x - orig - floor_x * dx) / dx\n",
    "    return np.hstack((floor_x, floor_x + 1)), np.hstack((1 - alpha, alpha))\n",
    "\n",
    "\n",
    "def _generate_center_coordinates(l_x):\n",
    "    X, Y = np.mgrid[:l_x, :l_x].astype(np.float64)\n",
    "    center = l_x / 2.\n",
    "    X += 0.5 - center\n",
    "    Y += 0.5 - center\n",
    "    return X, Y\n",
    "\n",
    "\n",
    "def build_projection_operator(l_x, n_dir):\n",
    "    \"\"\" Compute the tomography design matrix.\n",
    "\n",
    "    Parameters\n",
    "    ----------\n",
    "\n",
    "    l_x : int\n",
    "        linear size of image array\n",
    "\n",
    "    n_dir : int\n",
    "        number of angles at which projections are acquired.\n",
    "\n",
    "    Returns\n",
    "    -------\n",
    "    p : sparse matrix of shape (n_dir l_x, l_x**2)\n",
    "    \"\"\"\n",
    "    X, Y = _generate_center_coordinates(l_x)\n",
    "    angles = np.linspace(0, np.pi, n_dir, endpoint=False)\n",
    "    data_inds, weights, camera_inds = [], [], []\n",
    "    data_unravel_indices = np.arange(l_x ** 2)\n",
    "    data_unravel_indices = np.hstack((data_unravel_indices,\n",
    "                                      data_unravel_indices))\n",
    "    for i, angle in enumerate(angles):\n",
    "        Xrot = np.cos(angle) * X - np.sin(angle) * Y\n",
    "        inds, w = _weights(Xrot, dx=1, orig=X.min())\n",
    "        mask = np.logical_and(inds >= 0, inds < l_x)\n",
    "        weights += list(w[mask])\n",
    "        camera_inds += list(inds[mask] + i * l_x)\n",
    "        data_inds += list(data_unravel_indices[mask])\n",
    "    proj_operator = sparse.coo_matrix((weights, (camera_inds, data_inds)))\n",
    "    return proj_operator\n",
    "\n",
    "\n",
    "def generate_synthetic_data():\n",
    "    \"\"\" Synthetic binary data \"\"\"\n",
    "    rs = np.random.RandomState(0)\n",
    "    n_pts = 36\n",
    "    x, y = np.ogrid[0:l, 0:l]\n",
    "    mask_outer = (x - l / 2.) ** 2 + (y - l / 2.) ** 2 < (l / 2.) ** 2\n",
    "    mask = np.zeros((l, l))\n",
    "    points = l * rs.rand(2, n_pts)\n",
    "    mask[(points[0]).astype(np.int), (points[1]).astype(np.int)] = 1\n",
    "    mask = ndimage.gaussian_filter(mask, sigma=l / n_pts)\n",
    "    res = np.logical_and(mask > mask.mean(), mask_outer)\n",
    "    return np.logical_xor(res, ndimage.binary_erosion(res))\n",
    "\n",
    "\n",
    "# Generate synthetic images, and projections\n",
    "l = 128\n",
    "proj_operator = build_projection_operator(l, l / 7.)\n",
    "data = generate_synthetic_data()\n",
    "proj = proj_operator * data.ravel()[:, np.newaxis]\n",
    "proj += 0.15 * np.random.randn(*proj.shape)\n",
    "\n",
    "# Reconstruction with L2 (Ridge) penalization\n",
    "rgr_ridge = Ridge(alpha=0.2)\n",
    "rgr_ridge.fit(proj_operator, proj.ravel())\n",
    "rec_l2 = rgr_ridge.coef_.reshape(l, l)\n",
    "\n",
    "# Reconstruction with L1 (Lasso) penalization\n",
    "# the best value of alpha was determined using cross validation\n",
    "# with LassoCV\n",
    "rgr_lasso = Lasso(alpha=0.001)\n",
    "rgr_lasso.fit(proj_operator, proj.ravel())\n",
    "rec_l1 = rgr_lasso.coef_.reshape(l, l)\n",
    "\n",
    "plt.figure(figsize=(8, 3.3))\n",
    "plt.subplot(131)\n",
    "plt.imshow(data, cmap=plt.cm.gray, interpolation='nearest')\n",
    "plt.axis('off')\n",
    "plt.title('original image')\n",
    "plt.subplot(132)\n",
    "plt.imshow(rec_l2, cmap=plt.cm.gray, interpolation='nearest')\n",
    "plt.title('L2 penalization')\n",
    "plt.axis('off')\n",
    "plt.subplot(133)\n",
    "plt.imshow(rec_l1, cmap=plt.cm.gray, interpolation='nearest')\n",
    "plt.title('L1 penalization')\n",
    "plt.axis('off')\n",
    "\n",
    "plt.subplots_adjust(hspace=0.01, wspace=0.01, top=1, bottom=0, left=0,\n",
    "                    right=1)\n",
    "\n",
    "plt.show()"
   ]
  },
  {
   "cell_type": "markdown",
   "metadata": {},
   "source": [
    "Hence, We have seen that is idea could be very successful in medical world.It could make the cumbersome procedure of MRI much more easier and relaxing for patients as well as physicians.\n",
    "\n",
    "Much more to come in this way."
   ]
  },
  {
   "cell_type": "markdown",
   "metadata": {},
   "source": [
    "** TEST YOUR KNOWLEDGE **\n",
    "\n",
    "> Can this field be explored more for EEG and ECG signals also? If yes why? If No why not?\n",
    "\n",
    "> Did the last example clear your doubts about the use of this in MR imaging?\n",
    "\n",
    "> Will compressed sensing be really helpful in medical field?\n",
    "\n",
    "> Where else you think this could be applicable and bring fruitful result?"
   ]
  },
  {
   "cell_type": "markdown",
   "metadata": {},
   "source": [
    "**REFERENCES**\n",
    "\n",
    "1. *\"Sparse MRI: The Application of Compressed Sensing for Rapid MR Imaging\"*- Michael Lustig,David Donoho,and John M. Pauly.\n",
    "\n",
    "2. *\"Data-driven modeling and scientific computing: Methods for Integrating Dynamics of Complex Systems and Big Data\"*-J.N.Kutz.\n",
    "\n",
    "3. *\"An introduction to compressive sampling\"*-Candè,Emmanuel J.,and Michael B. Wakin-Signal Processing Magazine, IEEE 25.2 (2008): 21-30.\n",
    "\n",
    "4. *\"Scalable training of L1-regularized log-linear models\"*-Andrew, Galen,and Jianfeng Gao-Proceedings of the 24th international conference on Machine learning,ACM,2007.\n",
    "\n",
    "5. *\"MAGNETUM FLASH-The Magazine of MRI\"*-SIEMENS Healthcare GmbH,Germany."
   ]
  }
 ],
 "metadata": {
  "kernelspec": {
   "display_name": "Python 2",
   "language": "python",
   "name": "python2"
  },
  "language_info": {
   "codemirror_mode": {
    "name": "ipython",
    "version": 2
   },
   "file_extension": ".py",
   "mimetype": "text/x-python",
   "name": "python",
   "nbconvert_exporter": "python",
   "pygments_lexer": "ipython2",
   "version": "2.7.13"
  }
 },
 "nbformat": 4,
 "nbformat_minor": 2
}
